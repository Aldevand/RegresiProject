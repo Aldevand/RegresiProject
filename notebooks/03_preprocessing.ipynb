{
 "cells": [
  {
   "cell_type": "code",
   "execution_count": 2,
   "id": "2b4b8161",
   "metadata": {},
   "outputs": [
    {
     "name": "stdout",
     "output_type": "stream",
     "text": [
      "Variabel target yang dipilih: Total\n"
     ]
    },
    {
     "data": {
      "text/plain": [
       "0    11104693\n",
       "1    10932000\n",
       "2    10547917\n",
       "3    10011142\n",
       "4     9427590\n",
       "Name: Total, dtype: int64"
      ]
     },
     "execution_count": 2,
     "metadata": {},
     "output_type": "execute_result"
    }
   ],
   "source": [
    "#Pilih Variabel Target yaitu Total\n",
    "import pandas as pd\n",
    "import os\n",
    "# Pakai dataframe hasil EDA yang tersimpan di data/precessed/data_eda.csv\n",
    "file_path = os.path.join('..', 'data', 'processed', 'data_eda.csv')\n",
    "df = pd.read_csv(file_path)\n",
    "target_variable = 'Total'\n",
    "print(f'Variabel target yang dipilih: {target_variable}')\n",
    "df[target_variable].head(5)\n"
   ]
  },
  {
   "cell_type": "code",
   "execution_count": 3,
   "id": "71c4cf54",
   "metadata": {},
   "outputs": [
    {
     "name": "stdout",
     "output_type": "stream",
     "text": [
      "Variabel prediktor yang dipilih: ['Tidak/belum pernah sekolah', 'Tidak/belum tamat SD', 'SLTP', 'Akademi/Diploma', 'SLTA Kejuruan/SMK', 'Tanggal_Gabungan']\n"
     ]
    },
    {
     "data": {
      "text/html": [
       "<div>\n",
       "<style scoped>\n",
       "    .dataframe tbody tr th:only-of-type {\n",
       "        vertical-align: middle;\n",
       "    }\n",
       "\n",
       "    .dataframe tbody tr th {\n",
       "        vertical-align: top;\n",
       "    }\n",
       "\n",
       "    .dataframe thead th {\n",
       "        text-align: right;\n",
       "    }\n",
       "</style>\n",
       "<table border=\"1\" class=\"dataframe\">\n",
       "  <thead>\n",
       "    <tr style=\"text-align: right;\">\n",
       "      <th></th>\n",
       "      <th>Tidak/belum pernah sekolah</th>\n",
       "      <th>Tidak/belum tamat SD</th>\n",
       "      <th>SLTP</th>\n",
       "      <th>Akademi/Diploma</th>\n",
       "      <th>SLTA Kejuruan/SMK</th>\n",
       "      <th>Tanggal_Gabungan</th>\n",
       "    </tr>\n",
       "  </thead>\n",
       "  <tbody>\n",
       "    <tr>\n",
       "      <th>0</th>\n",
       "      <td>234465</td>\n",
       "      <td>614960</td>\n",
       "      <td>2860007</td>\n",
       "      <td>297185</td>\n",
       "      <td>1204140</td>\n",
       "      <td>2006-02-01</td>\n",
       "    </tr>\n",
       "    <tr>\n",
       "      <th>1</th>\n",
       "      <td>170666</td>\n",
       "      <td>611254</td>\n",
       "      <td>2730045</td>\n",
       "      <td>278074</td>\n",
       "      <td>1305190</td>\n",
       "      <td>2006-08-01</td>\n",
       "    </tr>\n",
       "    <tr>\n",
       "      <th>2</th>\n",
       "      <td>145750</td>\n",
       "      <td>520316</td>\n",
       "      <td>2643062</td>\n",
       "      <td>330316</td>\n",
       "      <td>1114675</td>\n",
       "      <td>2007-02-01</td>\n",
       "    </tr>\n",
       "    <tr>\n",
       "      <th>3</th>\n",
       "      <td>94301</td>\n",
       "      <td>438519</td>\n",
       "      <td>2264198</td>\n",
       "      <td>397191</td>\n",
       "      <td>1538349</td>\n",
       "      <td>2007-08-01</td>\n",
       "    </tr>\n",
       "    <tr>\n",
       "      <th>4</th>\n",
       "      <td>79764</td>\n",
       "      <td>448431</td>\n",
       "      <td>2166619</td>\n",
       "      <td>519867</td>\n",
       "      <td>1165582</td>\n",
       "      <td>2008-02-01</td>\n",
       "    </tr>\n",
       "  </tbody>\n",
       "</table>\n",
       "</div>"
      ],
      "text/plain": [
       "   Tidak/belum pernah sekolah  Tidak/belum tamat SD     SLTP  Akademi/Diploma  \\\n",
       "0                      234465                614960  2860007           297185   \n",
       "1                      170666                611254  2730045           278074   \n",
       "2                      145750                520316  2643062           330316   \n",
       "3                       94301                438519  2264198           397191   \n",
       "4                       79764                448431  2166619           519867   \n",
       "\n",
       "   SLTA Kejuruan/SMK Tanggal_Gabungan  \n",
       "0            1204140       2006-02-01  \n",
       "1            1305190       2006-08-01  \n",
       "2            1114675       2007-02-01  \n",
       "3            1538349       2007-08-01  \n",
       "4            1165582       2008-02-01  "
      ]
     },
     "execution_count": 3,
     "metadata": {},
     "output_type": "execute_result"
    }
   ],
   "source": [
    "predictor_variables = ['Tidak/belum pernah sekolah', 'Tidak/belum tamat SD', 'SLTP', 'Akademi/Diploma', 'SLTA Kejuruan/SMK', 'Tanggal_Gabungan']\n",
    "print(f'Variabel prediktor yang dipilih: {predictor_variables}')\n",
    "df[predictor_variables].head(5)"
   ]
  },
  {
   "cell_type": "code",
   "execution_count": 5,
   "id": "adf083fc",
   "metadata": {},
   "outputs": [],
   "source": [
    "# buat standarisasi dan perhatikan eror ValueError: Found input variables with inconsistent numbers of samples: [37, 35]\n",
    "from sklearn.preprocessing import StandardScaler\n",
    "\n",
    "df['Tanggal_Gabungan'] = pd.to_datetime(df['Tanggal_Gabungan'], errors='coerce')\n",
    "df['year'] = df['Tanggal_Gabungan'].dt.year\n",
    "df['month'] = df['Tanggal_Gabungan'].dt.month\n",
    "df = df.drop(columns=['Tanggal_Gabungan'])\n",
    "\n",
    "X = df.select_dtypes(include=[float, int])\n",
    "\n",
    "X_scaled = StandardScaler().fit_transform(X)\n"
   ]
  },
  {
   "cell_type": "code",
   "execution_count": 7,
   "id": "0db36d6b",
   "metadata": {},
   "outputs": [],
   "source": [
    "# split data\n",
    "from sklearn.model_selection import train_test_split\n",
    "y = df[target_variable]\n",
    "X_train, X_test, y_train, y_test = train_test_split(X_scaled, y, test_size=0.2, random_state=42)\n"
   ]
  },
  {
   "cell_type": "code",
   "execution_count": null,
   "id": "3ac24a5a",
   "metadata": {},
   "outputs": [],
   "source": [
    "# Visualisasi distribusi data setelah scaling\n",
    "import matplotlib.pyplot as plt\n",
    "import seaborn as sns\n",
    "import numpy as np\n",
    "X_scaled_df = pd.DataFrame(X_scaled, columns=X.columns)\n",
    "plt.figure(figsize=(12, 6))\n",
    "sns.boxplot(data=X_scaled_df)\n",
    "plt.title('Boxplot of Scaled Features')\n",
    "plt.xticks(rotation=45)\n",
    "plt.show()"
   ]
  }
 ],
 "metadata": {
  "kernelspec": {
   "display_name": "regresion-project",
   "language": "python",
   "name": "python3"
  },
  "language_info": {
   "codemirror_mode": {
    "name": "ipython",
    "version": 3
   },
   "file_extension": ".py",
   "mimetype": "text/x-python",
   "name": "python",
   "nbconvert_exporter": "python",
   "pygments_lexer": "ipython3",
   "version": "3.10.18"
  }
 },
 "nbformat": 4,
 "nbformat_minor": 5
}
