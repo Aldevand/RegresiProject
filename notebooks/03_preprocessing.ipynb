{
 "cells": [
  {
   "cell_type": "code",
   "execution_count": 4,
   "id": "d08c2eca",
   "metadata": {},
   "outputs": [
    {
     "data": {
      "text/html": [
       "<div>\n",
       "<style scoped>\n",
       "    .dataframe tbody tr th:only-of-type {\n",
       "        vertical-align: middle;\n",
       "    }\n",
       "\n",
       "    .dataframe tbody tr th {\n",
       "        vertical-align: top;\n",
       "    }\n",
       "\n",
       "    .dataframe thead th {\n",
       "        text-align: right;\n",
       "    }\n",
       "</style>\n",
       "<table border=\"1\" class=\"dataframe\">\n",
       "  <thead>\n",
       "    <tr style=\"text-align: right;\">\n",
       "      <th></th>\n",
       "      <th>Tanggal_Gabungan</th>\n",
       "      <th>Tidak/belum tamat SD</th>\n",
       "      <th>SLTP</th>\n",
       "      <th>SLTA Kejuruan/SMK</th>\n",
       "      <th>Total_Pengangguran</th>\n",
       "    </tr>\n",
       "  </thead>\n",
       "  <tbody>\n",
       "    <tr>\n",
       "      <th>0</th>\n",
       "      <td>2006-02-01</td>\n",
       "      <td>614960</td>\n",
       "      <td>2860007</td>\n",
       "      <td>1204140</td>\n",
       "      <td>5210757</td>\n",
       "    </tr>\n",
       "    <tr>\n",
       "      <th>1</th>\n",
       "      <td>2006-08-01</td>\n",
       "      <td>611254</td>\n",
       "      <td>2730045</td>\n",
       "      <td>1305190</td>\n",
       "      <td>5095229</td>\n",
       "    </tr>\n",
       "    <tr>\n",
       "      <th>2</th>\n",
       "      <td>2007-02-01</td>\n",
       "      <td>520316</td>\n",
       "      <td>2643062</td>\n",
       "      <td>1114675</td>\n",
       "      <td>4754119</td>\n",
       "    </tr>\n",
       "    <tr>\n",
       "      <th>3</th>\n",
       "      <td>2007-08-01</td>\n",
       "      <td>438519</td>\n",
       "      <td>2264198</td>\n",
       "      <td>1538349</td>\n",
       "      <td>4732558</td>\n",
       "    </tr>\n",
       "    <tr>\n",
       "      <th>4</th>\n",
       "      <td>2008-02-01</td>\n",
       "      <td>448431</td>\n",
       "      <td>2166619</td>\n",
       "      <td>1165582</td>\n",
       "      <td>4380263</td>\n",
       "    </tr>\n",
       "  </tbody>\n",
       "</table>\n",
       "</div>"
      ],
      "text/plain": [
       "  Tanggal_Gabungan  Tidak/belum tamat SD     SLTP  SLTA Kejuruan/SMK  \\\n",
       "0       2006-02-01                614960  2860007            1204140   \n",
       "1       2006-08-01                611254  2730045            1305190   \n",
       "2       2007-02-01                520316  2643062            1114675   \n",
       "3       2007-08-01                438519  2264198            1538349   \n",
       "4       2008-02-01                448431  2166619            1165582   \n",
       "\n",
       "   Total_Pengangguran  \n",
       "0             5210757  \n",
       "1             5095229  \n",
       "2             4754119  \n",
       "3             4732558  \n",
       "4             4380263  "
      ]
     },
     "execution_count": 4,
     "metadata": {},
     "output_type": "execute_result"
    }
   ],
   "source": [
    "# Standarisasi data\n",
    "import os\n",
    "import pandas as pd\n",
    "df = pd.read_csv(r\"C:\\Users\\ASUS\\OneDrive\\Documents\\RegresiProject\\data\\processed\\selected_features.csv\")\n",
    "df.head(5)\n"
   ]
  }
 ],
 "metadata": {
  "kernelspec": {
   "display_name": "regresion-project",
   "language": "python",
   "name": "python3"
  },
  "language_info": {
   "codemirror_mode": {
    "name": "ipython",
    "version": 3
   },
   "file_extension": ".py",
   "mimetype": "text/x-python",
   "name": "python",
   "nbconvert_exporter": "python",
   "pygments_lexer": "ipython3",
   "version": "3.10.18"
  }
 },
 "nbformat": 4,
 "nbformat_minor": 5
}
