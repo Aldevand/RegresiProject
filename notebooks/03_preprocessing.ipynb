{
 "cells": [
  {
   "cell_type": "code",
   "execution_count": 1,
   "id": "d08c2eca",
   "metadata": {},
   "outputs": [
    {
     "data": {
      "text/html": [
       "<div>\n",
       "<style scoped>\n",
       "    .dataframe tbody tr th:only-of-type {\n",
       "        vertical-align: middle;\n",
       "    }\n",
       "\n",
       "    .dataframe tbody tr th {\n",
       "        vertical-align: top;\n",
       "    }\n",
       "\n",
       "    .dataframe thead th {\n",
       "        text-align: right;\n",
       "    }\n",
       "</style>\n",
       "<table border=\"1\" class=\"dataframe\">\n",
       "  <thead>\n",
       "    <tr style=\"text-align: right;\">\n",
       "      <th></th>\n",
       "      <th>Tanggal_Gabungan</th>\n",
       "      <th>Tidak/belum tamat SD</th>\n",
       "      <th>SLTP</th>\n",
       "      <th>SLTA Kejuruan/SMK</th>\n",
       "      <th>Total_Pengangguran</th>\n",
       "    </tr>\n",
       "  </thead>\n",
       "  <tbody>\n",
       "    <tr>\n",
       "      <th>0</th>\n",
       "      <td>2006-02-01</td>\n",
       "      <td>614960</td>\n",
       "      <td>2860007</td>\n",
       "      <td>1204140</td>\n",
       "      <td>5210757</td>\n",
       "    </tr>\n",
       "    <tr>\n",
       "      <th>1</th>\n",
       "      <td>2006-08-01</td>\n",
       "      <td>611254</td>\n",
       "      <td>2730045</td>\n",
       "      <td>1305190</td>\n",
       "      <td>5095229</td>\n",
       "    </tr>\n",
       "    <tr>\n",
       "      <th>2</th>\n",
       "      <td>2007-02-01</td>\n",
       "      <td>520316</td>\n",
       "      <td>2643062</td>\n",
       "      <td>1114675</td>\n",
       "      <td>4754119</td>\n",
       "    </tr>\n",
       "    <tr>\n",
       "      <th>3</th>\n",
       "      <td>2007-08-01</td>\n",
       "      <td>438519</td>\n",
       "      <td>2264198</td>\n",
       "      <td>1538349</td>\n",
       "      <td>4732558</td>\n",
       "    </tr>\n",
       "    <tr>\n",
       "      <th>4</th>\n",
       "      <td>2008-02-01</td>\n",
       "      <td>448431</td>\n",
       "      <td>2166619</td>\n",
       "      <td>1165582</td>\n",
       "      <td>4380263</td>\n",
       "    </tr>\n",
       "  </tbody>\n",
       "</table>\n",
       "</div>"
      ],
      "text/plain": [
       "  Tanggal_Gabungan  Tidak/belum tamat SD     SLTP  SLTA Kejuruan/SMK  \\\n",
       "0       2006-02-01                614960  2860007            1204140   \n",
       "1       2006-08-01                611254  2730045            1305190   \n",
       "2       2007-02-01                520316  2643062            1114675   \n",
       "3       2007-08-01                438519  2264198            1538349   \n",
       "4       2008-02-01                448431  2166619            1165582   \n",
       "\n",
       "   Total_Pengangguran  \n",
       "0             5210757  \n",
       "1             5095229  \n",
       "2             4754119  \n",
       "3             4732558  \n",
       "4             4380263  "
      ]
     },
     "execution_count": 1,
     "metadata": {},
     "output_type": "execute_result"
    }
   ],
   "source": [
    "# Standarisasi data\n",
    "import os\n",
    "import pandas as pd\n",
    "df = pd.read_csv(r\"C:\\Users\\ASUS\\OneDrive\\Documents\\RegresiProject\\data\\processed\\selected_features.csv\")\n",
    "df.head(5)\n"
   ]
  },
  {
   "cell_type": "markdown",
   "id": "c6630ca3",
   "metadata": {},
   "source": [
    "-> Agregasi"
   ]
  },
  {
   "cell_type": "code",
   "execution_count": 16,
   "id": "6d463507",
   "metadata": {},
   "outputs": [
    {
     "name": "stdout",
     "output_type": "stream",
     "text": [
      "['Tidak/belum tamat SD', 'SLTP', 'SLTA Kejuruan/SMK', 'Total_Pengangguran']\n"
     ]
    }
   ],
   "source": [
    "# pilih semua kolom angka kecuali bulan\n",
    "numerical_cols = df.select_dtypes(include=['float64', 'int64']).columns.tolist()\n",
    "print(numerical_cols)\n",
    "X = df[numerical_cols]\n"
   ]
  },
  {
   "cell_type": "code",
   "execution_count": 17,
   "id": "965affd1",
   "metadata": {},
   "outputs": [
    {
     "name": "stdout",
     "output_type": "stream",
     "text": [
      "Tidak/belum tamat SD    4.961547e+05\n",
      "SLTP                    1.697168e+06\n",
      "SLTA Kejuruan/SMK       1.422718e+06\n",
      "Total_Pengangguran      3.989621e+06\n",
      "dtype: float64\n"
     ]
    }
   ],
   "source": [
    "# hitung rata-rata untuk setiap kolom numerik\n",
    "mean = df[numerical_cols].mean()\n",
    "print(mean)\n"
   ]
  },
  {
   "cell_type": "code",
   "execution_count": 18,
   "id": "0db05201",
   "metadata": {},
   "outputs": [
    {
     "name": "stdout",
     "output_type": "stream",
     "text": [
      "hasil minmax :\n",
      " [[ 1.13937751  2.70143176 -0.65970047  2.43478815]\n",
      " [ 1.10383589  2.39951263 -0.35471619  2.20444016]\n",
      " [ 0.23171381  2.19743948 -0.92971946  1.52431064]\n",
      " [-0.55274339  1.31728768  0.34899317  1.48132077]\n",
      " [-0.45768441  1.09059859 -0.77607439  0.7788898 ]\n",
      " [-0.50179017  0.64308634 -0.04101548  0.6045696 ]\n",
      " [-0.76913877  0.83055395 -0.25694013  0.72845681]\n",
      " [ 0.49174502  0.17111149 -0.04675601  0.5332189 ]\n",
      " [ 0.489194   -0.09226452 -0.25906793  0.2973419 ]\n",
      " [ 0.99802618 -0.08297896 -0.6867069   0.13568079]\n",
      " [ 0.60904389  0.31934834 -0.9453052   0.15382303]\n",
      " [ 2.31562696  1.02612001 -0.78881099  1.05758718]\n",
      " [ 1.01271851  0.0917695  -1.22009589 -0.49323614]\n",
      " [ 0.15235414  0.0409068  -1.07358271 -0.8182711 ]\n",
      " [ 0.26129028  0.288676   -1.684336   -0.93799311]\n",
      " [-0.06715808 -0.01748052 -0.49653615 -0.57042688]\n",
      " [ 1.09731449 -0.00921016 -1.73650174 -1.01524168]\n",
      " [-1.02237046 -0.30277298 -0.27222707 -0.86194486]\n",
      " [ 1.02653812 -0.10867746 -0.74956294 -0.3649963 ]\n",
      " [-1.19507246 -0.75094965  0.44358508 -0.73249873]\n",
      " [ 0.58753287 -0.89057929 -0.22452216 -0.85019896]\n",
      " [-1.07493485 -0.93549011  0.29527006 -1.01974185]\n",
      " [ 0.48663339 -0.96625537 -0.11980736 -0.87017755]\n",
      " [-0.87961894 -0.98210612  0.59965977 -0.76454224]\n",
      " [-0.42033022 -1.00300503  0.06827785 -0.95317046]\n",
      " [-1.60516298 -1.28933825  0.99455179 -1.01819061]\n",
      " [-0.5050221  -1.07321478 -0.07677153 -1.20199965]\n",
      " [-1.42360914 -1.3008912   0.95647478 -1.00763107]\n",
      " [-1.43256647 -1.0356892   0.06279085 -1.28529962]\n",
      " [-0.64582678 -0.17574402  2.72805167  1.44346114]\n",
      " [-1.47134962 -0.42299283  2.01135521  0.46309045]\n",
      " [-0.6216976  -0.21539991  2.0783612   0.79241024]\n",
      " [-0.5594566  -0.55045855  1.37007029  0.09030427]\n",
      " [ 1.60129398 -0.45617183  0.72065749  0.02093349]\n",
      " [ 1.60129398 -0.45617183  0.72065749  0.02093349]]\n"
     ]
    }
   ],
   "source": [
    "from sklearn.preprocessing import StandardScaler, StandardScaler\n",
    "\n",
    "scaler = StandardScaler()\n",
    "minmax = scaler.fit_transform(X)\n",
    "print('hasil minmax :\\n', minmax)"
   ]
  },
  {
   "cell_type": "code",
   "execution_count": 19,
   "id": "8438bab8",
   "metadata": {},
   "outputs": [
    {
     "name": "stdout",
     "output_type": "stream",
     "text": [
      "hasil standarisasi :\n",
      " [[ 1.13937751  2.70143176 -0.65970047  2.43478815]\n",
      " [ 1.10383589  2.39951263 -0.35471619  2.20444016]\n",
      " [ 0.23171381  2.19743948 -0.92971946  1.52431064]\n",
      " [-0.55274339  1.31728768  0.34899317  1.48132077]\n",
      " [-0.45768441  1.09059859 -0.77607439  0.7788898 ]\n",
      " [-0.50179017  0.64308634 -0.04101548  0.6045696 ]\n",
      " [-0.76913877  0.83055395 -0.25694013  0.72845681]\n",
      " [ 0.49174502  0.17111149 -0.04675601  0.5332189 ]\n",
      " [ 0.489194   -0.09226452 -0.25906793  0.2973419 ]\n",
      " [ 0.99802618 -0.08297896 -0.6867069   0.13568079]\n",
      " [ 0.60904389  0.31934834 -0.9453052   0.15382303]\n",
      " [ 2.31562696  1.02612001 -0.78881099  1.05758718]\n",
      " [ 1.01271851  0.0917695  -1.22009589 -0.49323614]\n",
      " [ 0.15235414  0.0409068  -1.07358271 -0.8182711 ]\n",
      " [ 0.26129028  0.288676   -1.684336   -0.93799311]\n",
      " [-0.06715808 -0.01748052 -0.49653615 -0.57042688]\n",
      " [ 1.09731449 -0.00921016 -1.73650174 -1.01524168]\n",
      " [-1.02237046 -0.30277298 -0.27222707 -0.86194486]\n",
      " [ 1.02653812 -0.10867746 -0.74956294 -0.3649963 ]\n",
      " [-1.19507246 -0.75094965  0.44358508 -0.73249873]\n",
      " [ 0.58753287 -0.89057929 -0.22452216 -0.85019896]\n",
      " [-1.07493485 -0.93549011  0.29527006 -1.01974185]\n",
      " [ 0.48663339 -0.96625537 -0.11980736 -0.87017755]\n",
      " [-0.87961894 -0.98210612  0.59965977 -0.76454224]\n",
      " [-0.42033022 -1.00300503  0.06827785 -0.95317046]\n",
      " [-1.60516298 -1.28933825  0.99455179 -1.01819061]\n",
      " [-0.5050221  -1.07321478 -0.07677153 -1.20199965]\n",
      " [-1.42360914 -1.3008912   0.95647478 -1.00763107]\n",
      " [-1.43256647 -1.0356892   0.06279085 -1.28529962]\n",
      " [-0.64582678 -0.17574402  2.72805167  1.44346114]\n",
      " [-1.47134962 -0.42299283  2.01135521  0.46309045]\n",
      " [-0.6216976  -0.21539991  2.0783612   0.79241024]\n",
      " [-0.5594566  -0.55045855  1.37007029  0.09030427]\n",
      " [ 1.60129398 -0.45617183  0.72065749  0.02093349]\n",
      " [ 1.60129398 -0.45617183  0.72065749  0.02093349]]\n"
     ]
    }
   ],
   "source": [
    "scaler_std = StandardScaler()\n",
    "X_std = scaler_std.fit_transform(X)\n",
    "print('hasil standarisasi :\\n', X_std)"
   ]
  },
  {
   "cell_type": "code",
   "execution_count": 24,
   "id": "5fc15081",
   "metadata": {},
   "outputs": [
    {
     "name": "stdout",
     "output_type": "stream",
     "text": [
      "<class 'pandas.core.frame.DataFrame'>\n",
      "RangeIndex: 35 entries, 0 to 34\n",
      "Data columns (total 5 columns):\n",
      " #   Column                Non-Null Count  Dtype \n",
      "---  ------                --------------  ----- \n",
      " 0   Tanggal_Gabungan      35 non-null     object\n",
      " 1   Tidak/belum tamat SD  35 non-null     int64 \n",
      " 2   SLTP                  35 non-null     int64 \n",
      " 3   SLTA Kejuruan/SMK     35 non-null     int64 \n",
      " 4   Total_Pengangguran    35 non-null     int64 \n",
      "dtypes: int64(4), object(1)\n",
      "memory usage: 1.5+ KB\n"
     ]
    }
   ],
   "source": [
    "df.head(2)\n",
    "df.info()"
   ]
  },
  {
   "cell_type": "code",
   "execution_count": 23,
   "id": "84be3e5b",
   "metadata": {},
   "outputs": [
    {
     "name": "stdout",
     "output_type": "stream",
     "text": [
      "X_train shape: (28, 4)\n",
      "X_test shape: (7, 4)\n"
     ]
    }
   ],
   "source": [
    "# pisah data latih dan data uji\n",
    "from sklearn.model_selection import train_test_split\n",
    "X = df.drop(columns=['Total_Pengangguran'])\n",
    "y = df['Total_Pengangguran']\n",
    "X_train, X_test, y_train, y_test = train_test_split(\n",
    "    X, y, test_size=0.2, random_state=42\n",
    ")\n",
    "print(\"X_train shape:\", X_train.shape)\n",
    "print(\"X_test shape:\", X_test.shape)"
   ]
  },
  {
   "cell_type": "code",
   "execution_count": null,
   "id": "16208bcf",
   "metadata": {},
   "outputs": [],
   "source": []
  }
 ],
 "metadata": {
  "kernelspec": {
   "display_name": "regresion-project",
   "language": "python",
   "name": "python3"
  },
  "language_info": {
   "codemirror_mode": {
    "name": "ipython",
    "version": 3
   },
   "file_extension": ".py",
   "mimetype": "text/x-python",
   "name": "python",
   "nbconvert_exporter": "python",
   "pygments_lexer": "ipython3",
   "version": "3.10.18"
  }
 },
 "nbformat": 4,
 "nbformat_minor": 5
}
