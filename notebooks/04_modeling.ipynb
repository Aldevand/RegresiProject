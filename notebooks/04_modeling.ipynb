{
 "cells": [
  {
   "cell_type": "code",
   "execution_count": 2,
   "id": "b8f45c7d",
   "metadata": {},
   "outputs": [],
   "source": [
    "from sklearn. linear_model import LinearRegression\n",
    "from sklearn.metrics import mean_squared_error, r2_score\n",
    "import numpy as np\n",
    "import pandas as pd"
   ]
  },
  {
   "cell_type": "code",
   "execution_count": 35,
   "id": "520c63d5",
   "metadata": {},
   "outputs": [
    {
     "name": "stdout",
     "output_type": "stream",
     "text": [
      "data berhasil diLoad\n"
     ]
    }
   ],
   "source": [
    "# Load/baca data yang sudah disimpan di folder data/processed\n",
    "X_test = pd.read_csv(r\"C:\\Users\\ASUS\\OneDrive\\Documents\\RegresiProject\\data\\processed\\X_test.csv\")\n",
    "y_test = pd.read_csv(r\"C:\\Users\\ASUS\\OneDrive\\Documents\\RegresiProject\\data\\processed\\y_test.csv\")\n",
    "X_train = pd.read_csv(r\"C:\\Users\\ASUS\\OneDrive\\Documents\\RegresiProject\\data\\processed\\X_train.csv\")\n",
    "y_train = pd.read_csv(r\"C:\\Users\\ASUS\\OneDrive\\Documents\\RegresiProject\\data\\processed\\y_train.csv\")\n",
    "print(\"data berhasil diLoad\")\n"
   ]
  },
  {
   "cell_type": "code",
   "execution_count": 36,
   "id": "4e0ccb89",
   "metadata": {},
   "outputs": [],
   "source": [
    "X_train['Tanggal_Gabungan'] = pd.to_datetime(X_train['Tanggal_Gabungan'], errors='coerce')\n",
    "X_test['Tanggal_Gabungan'] = pd.to_datetime(X_test['Tanggal_Gabungan'], errors='coerce')"
   ]
  },
  {
   "cell_type": "code",
   "execution_count": 37,
   "id": "b7d73e98",
   "metadata": {},
   "outputs": [],
   "source": [
    "# ubah ke numeric\n",
    "X_train['Tanggal_Gabungan'] = X_train['Tanggal_Gabungan'].astype(np.int64) // 10**9\n",
    "X_test['Tanggal_Gabungan'] = X_test['Tanggal_Gabungan'].astype(np.int64) // 10**9"
   ]
  },
  {
   "cell_type": "code",
   "execution_count": null,
   "id": "4cfd9282",
   "metadata": {},
   "outputs": [],
   "source": [
    "# buat model regresi linier\n",
    "model = LinearRegression()\n",
    "model.fit(X_train, y_train) # latih model dengan data latih\n",
    "y_pred = model.predict(X_test) # prediksi dengan data uji\n",
    "\n"
   ]
  },
  {
   "cell_type": "code",
   "execution_count": null,
   "id": "dadebc95",
   "metadata": {},
   "outputs": [
    {
     "ename": "FileNotFoundError",
     "evalue": "[Errno 2] No such file or directory: 'C:\\\\Users\\\\ASUS\\\\OneDrive\\\\Documents\\\\RegresiProject\\\\models\\\\linear_regression_model.pkl'",
     "output_type": "error",
     "traceback": [
      "\u001b[1;31m---------------------------------------------------------------------------\u001b[0m",
      "\u001b[1;31mFileNotFoundError\u001b[0m                         Traceback (most recent call last)",
      "Cell \u001b[1;32mIn[40], line 3\u001b[0m\n\u001b[0;32m      1\u001b[0m \u001b[38;5;66;03m# simpan model ke file\u001b[39;00m\n\u001b[0;32m      2\u001b[0m \u001b[38;5;28;01mimport\u001b[39;00m\u001b[38;5;250m \u001b[39m\u001b[38;5;21;01mjoblib\u001b[39;00m\n\u001b[1;32m----> 3\u001b[0m \u001b[43mjoblib\u001b[49m\u001b[38;5;241;43m.\u001b[39;49m\u001b[43mdump\u001b[49m\u001b[43m(\u001b[49m\u001b[43mmodel\u001b[49m\u001b[43m,\u001b[49m\u001b[43m \u001b[49m\u001b[38;5;124;43mr\u001b[39;49m\u001b[38;5;124;43m\"\u001b[39;49m\u001b[38;5;124;43mC:\u001b[39;49m\u001b[38;5;124;43m\\\u001b[39;49m\u001b[38;5;124;43mUsers\u001b[39;49m\u001b[38;5;124;43m\\\u001b[39;49m\u001b[38;5;124;43mASUS\u001b[39;49m\u001b[38;5;124;43m\\\u001b[39;49m\u001b[38;5;124;43mOneDrive\u001b[39;49m\u001b[38;5;124;43m\\\u001b[39;49m\u001b[38;5;124;43mDocuments\u001b[39;49m\u001b[38;5;124;43m\\\u001b[39;49m\u001b[38;5;124;43mRegresiProject\u001b[39;49m\u001b[38;5;124;43m\\\u001b[39;49m\u001b[38;5;124;43mmodels\u001b[39;49m\u001b[38;5;124;43m\\\u001b[39;49m\u001b[38;5;124;43mlinear_regression_model.pkl\u001b[39;49m\u001b[38;5;124;43m\"\u001b[39;49m\u001b[43m)\u001b[49m\n\u001b[0;32m      4\u001b[0m \u001b[38;5;28mprint\u001b[39m(\u001b[38;5;124m\"\u001b[39m\u001b[38;5;124mModel berhasil disimpan.\u001b[39m\u001b[38;5;124m\"\u001b[39m)\n",
      "File \u001b[1;32mc:\\Users\\ASUS\\miniconda3\\envs\\regresion-project\\lib\\site-packages\\joblib\\numpy_pickle.py:599\u001b[0m, in \u001b[0;36mdump\u001b[1;34m(value, filename, compress, protocol)\u001b[0m\n\u001b[0;32m    597\u001b[0m         NumpyPickler(f, protocol\u001b[38;5;241m=\u001b[39mprotocol)\u001b[38;5;241m.\u001b[39mdump(value)\n\u001b[0;32m    598\u001b[0m \u001b[38;5;28;01melif\u001b[39;00m is_filename:\n\u001b[1;32m--> 599\u001b[0m     \u001b[38;5;28;01mwith\u001b[39;00m \u001b[38;5;28;43mopen\u001b[39;49m\u001b[43m(\u001b[49m\u001b[43mfilename\u001b[49m\u001b[43m,\u001b[49m\u001b[43m \u001b[49m\u001b[38;5;124;43m\"\u001b[39;49m\u001b[38;5;124;43mwb\u001b[39;49m\u001b[38;5;124;43m\"\u001b[39;49m\u001b[43m)\u001b[49m \u001b[38;5;28;01mas\u001b[39;00m f:\n\u001b[0;32m    600\u001b[0m         NumpyPickler(f, protocol\u001b[38;5;241m=\u001b[39mprotocol)\u001b[38;5;241m.\u001b[39mdump(value)\n\u001b[0;32m    601\u001b[0m \u001b[38;5;28;01melse\u001b[39;00m:\n",
      "\u001b[1;31mFileNotFoundError\u001b[0m: [Errno 2] No such file or directory: 'C:\\\\Users\\\\ASUS\\\\OneDrive\\\\Documents\\\\RegresiProject\\\\models\\\\linear_regression_model.pkl'"
     ]
    }
   ],
   "source": [
    "# simpan model ke directory model\n",
    "import joblib\n",
    "joblib.dump(model, r\"C:\\Users\\ASUS\\OneDrive\\Documents\\RegresiProject\\models\\linear_regression_model.pkl\")\n",
    "print(\"Model berhasil disimpan.\")"
   ]
  },
  {
   "cell_type": "code",
   "execution_count": null,
   "id": "1cc70d05",
   "metadata": {},
   "outputs": [],
   "source": []
  }
 ],
 "metadata": {
  "kernelspec": {
   "display_name": "regresion-project",
   "language": "python",
   "name": "python3"
  },
  "language_info": {
   "codemirror_mode": {
    "name": "ipython",
    "version": 3
   },
   "file_extension": ".py",
   "mimetype": "text/x-python",
   "name": "python",
   "nbconvert_exporter": "python",
   "pygments_lexer": "ipython3",
   "version": "3.10.18"
  }
 },
 "nbformat": 4,
 "nbformat_minor": 5
}
